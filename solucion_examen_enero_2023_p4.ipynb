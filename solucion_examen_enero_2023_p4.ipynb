{
  "nbformat": 4,
  "nbformat_minor": 0,
  "metadata": {
    "colab": {
      "name": "2_3_Engranajes_RNA_Operaciones_con_Tensores.ipynb",
      "provenance": [],
      "authorship_tag": "ABX9TyMs0x0xQglpsn9G1UN4ZK6M",
      "include_colab_link": true
    },
    "kernelspec": {
      "name": "python3",
      "display_name": "Python 3"
    },
    "language_info": {
      "name": "python"
    }
  },
  "cells": [
    {
      "cell_type": "markdown",
      "metadata": {
        "id": "view-in-github",
        "colab_type": "text"
      },
      "source": [
        "<a href=\"https://colab.research.google.com/github/carlosrabazo/AlgoritmoGenetico/blob/main/solucion_examen_enero_2023_p4.ipynb\" target=\"_parent\"><img src=\"https://colab.research.google.com/assets/colab-badge.svg\" alt=\"Open In Colab\"/></a>"
      ]
    },
    {
      "cell_type": "code",
      "source": [
        "def binario_a_decimal(array_binario):\n",
        "  array_decimal = []\n",
        "  for i in range(0, len(array_binario), 3):\n",
        "    array_decimal.append(1 + int(str(array_binario[i]) + str(array_binario[i+1]) + str(array_binario[i+2]) , 2))\n",
        "  return array_decimal"
      ],
      "metadata": {
        "id": "ZN5cm9XJKCca"
      },
      "execution_count": 29,
      "outputs": []
    },
    {
      "cell_type": "code",
      "source": [
        "# solucion_candidata_1 CORRECTA\n",
        "cromosoma_solucion_candidata_1 = [0,0,0,0,0,0,0,0,1,0,0,1,0,1,0,0,1,0,0,1,1,0,1,1,1,0,0,1,0,0]\n",
        "# solucion_candidata_2 CORRECTA\n",
        "cromosoma_solucion_candidata_2 = [0,0,0,1,1,1,0,0,1,0,1,0,0,1,0,1,1,0,0,1,1,1,0,0,1,0,0,0,0,0]\n",
        "# solucion_candidata_3 erronea por tener dos agentes asociados a dos tareas diferentes\n",
        "cromosoma_solucion_candidata_3 = [0,0,0,0,0,0,0,0,1,0,0,0,0,1,0,0,1,0,0,1,1,0,1,1,1,0,0,1,0,0]\n",
        "# solucion_candidata_4 erronea por tener la segunda tarea repetida\n",
        "cromosoma_solucion_candidata_4 = [0,0,0,0,0,0,0,0,0,0,0,1,0,1,0,0,1,0,0,1,1,0,1,1,1,0,0,1,0,0]\n",
        "# solucion_candidata_5 erronea por tener la ultima tarea fuera de rango (valor 5)\n",
        "cromosoma_solucion_candidata_5 = [0,0,0,0,0,0,0,0,1,0,0,1,0,1,0,0,1,0,0,1,1,0,1,1,1,0,1,1,0,0]"
      ],
      "metadata": {
        "id": "0z7xVLP5KwG9"
      },
      "execution_count": 30,
      "outputs": []
    },
    {
      "cell_type": "code",
      "source": [
        "binario_a_decimal(cromosoma_solucion_candidata_1)"
      ],
      "metadata": {
        "colab": {
          "base_uri": "https://localhost:8080/"
        },
        "id": "EBDGUI6DLtgp",
        "outputId": "27c26a01-b89f-48ab-be94-1995420dbc8f"
      },
      "execution_count": 32,
      "outputs": [
        {
          "output_type": "execute_result",
          "data": {
            "text/plain": [
              "[1, 1, 2, 2, 3, 3, 4, 4, 5, 5]"
            ]
          },
          "metadata": {},
          "execution_count": 32
        }
      ]
    },
    {
      "cell_type": "code",
      "source": [
        "binario_a_decimal(cromosoma_solucion_candidata_2)"
      ],
      "metadata": {
        "colab": {
          "base_uri": "https://localhost:8080/"
        },
        "id": "GAV31JRWL3cm",
        "outputId": "35578f69-f24d-494e-d40d-99defb264712"
      },
      "execution_count": 33,
      "outputs": [
        {
          "output_type": "execute_result",
          "data": {
            "text/plain": [
              "[1, 8, 2, 3, 3, 7, 4, 5, 5, 1]"
            ]
          },
          "metadata": {},
          "execution_count": 33
        }
      ]
    },
    {
      "cell_type": "code",
      "source": [
        "binario_a_decimal(cromosoma_solucion_candidata_3)"
      ],
      "metadata": {
        "colab": {
          "base_uri": "https://localhost:8080/"
        },
        "id": "jgFGt1YHQTJo",
        "outputId": "99e69727-b80d-4c2e-c473-dfdfec867ddf"
      },
      "execution_count": 34,
      "outputs": [
        {
          "output_type": "execute_result",
          "data": {
            "text/plain": [
              "[1, 1, 2, 1, 3, 3, 4, 4, 5, 5]"
            ]
          },
          "metadata": {},
          "execution_count": 34
        }
      ]
    },
    {
      "cell_type": "code",
      "source": [
        "binario_a_decimal(cromosoma_solucion_candidata_4)"
      ],
      "metadata": {
        "colab": {
          "base_uri": "https://localhost:8080/"
        },
        "id": "KqCRTBQWSc3U",
        "outputId": "adb919c4-3bf5-4767-a959-3eb00cd2a34b"
      },
      "execution_count": 35,
      "outputs": [
        {
          "output_type": "execute_result",
          "data": {
            "text/plain": [
              "[1, 1, 1, 2, 3, 3, 4, 4, 5, 5]"
            ]
          },
          "metadata": {},
          "execution_count": 35
        }
      ]
    },
    {
      "cell_type": "code",
      "source": [
        "binario_a_decimal(cromosoma_solucion_candidata_5)"
      ],
      "metadata": {
        "colab": {
          "base_uri": "https://localhost:8080/"
        },
        "id": "SJp2o6wySero",
        "outputId": "c6e7642f-259b-4613-b9f7-d2ee9ea92826"
      },
      "execution_count": 36,
      "outputs": [
        {
          "output_type": "execute_result",
          "data": {
            "text/plain": [
              "[1, 1, 2, 2, 3, 3, 4, 4, 6, 5]"
            ]
          },
          "metadata": {},
          "execution_count": 36
        }
      ]
    },
    {
      "cell_type": "code",
      "source": [
        "def existen_agentes_repetidos (solucion_candidata):\n",
        "  vector_decimales = binario_a_decimal(solucion_candidata)\n",
        "  lista_unica = []\n",
        "  i = 0\n",
        "  for numero in vector_decimales:\n",
        "    if i != 0 and i % 2 == 1:\n",
        "      if numero not in lista_unica:\n",
        "        lista_unica.append(numero)\n",
        "      else:\n",
        "        return True\n",
        "    i = i + 1  \n",
        "  return False"
      ],
      "metadata": {
        "id": "J7d9lG1bNQWD"
      },
      "execution_count": 56,
      "outputs": []
    },
    {
      "cell_type": "code",
      "source": [
        "existen_agentes_repetidos(cromosoma_solucion_candidata_1)"
      ],
      "metadata": {
        "colab": {
          "base_uri": "https://localhost:8080/"
        },
        "id": "BJ6rb6z1QE7f",
        "outputId": "a3bc8b83-09ae-465e-f338-c9c4619c3e14"
      },
      "execution_count": 57,
      "outputs": [
        {
          "output_type": "execute_result",
          "data": {
            "text/plain": [
              "False"
            ]
          },
          "metadata": {},
          "execution_count": 57
        }
      ]
    },
    {
      "cell_type": "code",
      "source": [
        "existen_agentes_repetidos(cromosoma_solucion_candidata_2)"
      ],
      "metadata": {
        "colab": {
          "base_uri": "https://localhost:8080/"
        },
        "id": "-qID1I5_QLMQ",
        "outputId": "2ef8bf6b-429b-4f4a-c40c-92f4ffcd4be0"
      },
      "execution_count": 58,
      "outputs": [
        {
          "output_type": "execute_result",
          "data": {
            "text/plain": [
              "False"
            ]
          },
          "metadata": {},
          "execution_count": 58
        }
      ]
    },
    {
      "cell_type": "code",
      "source": [
        "existen_agentes_repetidos(cromosoma_solucion_candidata_3)"
      ],
      "metadata": {
        "colab": {
          "base_uri": "https://localhost:8080/"
        },
        "id": "iRjxB1kkQOcb",
        "outputId": "fbe70ec0-51aa-4c68-f356-18f848419520"
      },
      "execution_count": 59,
      "outputs": [
        {
          "output_type": "execute_result",
          "data": {
            "text/plain": [
              "True"
            ]
          },
          "metadata": {},
          "execution_count": 59
        }
      ]
    },
    {
      "cell_type": "code",
      "source": [
        "existen_agentes_repetidos(cromosoma_solucion_candidata_4)"
      ],
      "metadata": {
        "colab": {
          "base_uri": "https://localhost:8080/"
        },
        "id": "z_bBWAkHWbTF",
        "outputId": "c3b61e0f-3086-4f9e-9186-86b4c039f156"
      },
      "execution_count": 60,
      "outputs": [
        {
          "output_type": "execute_result",
          "data": {
            "text/plain": [
              "False"
            ]
          },
          "metadata": {},
          "execution_count": 60
        }
      ]
    },
    {
      "cell_type": "code",
      "source": [
        "existen_agentes_repetidos(cromosoma_solucion_candidata_5)"
      ],
      "metadata": {
        "colab": {
          "base_uri": "https://localhost:8080/"
        },
        "id": "LuipOO4mWeI0",
        "outputId": "edc75557-c37a-41b3-e083-90cd9bfc41d1"
      },
      "execution_count": 61,
      "outputs": [
        {
          "output_type": "execute_result",
          "data": {
            "text/plain": [
              "False"
            ]
          },
          "metadata": {},
          "execution_count": 61
        }
      ]
    },
    {
      "cell_type": "code",
      "source": [
        "def existen_tareas_repetidas (solucion_candidata):\n",
        "  vector_decimales = binario_a_decimal(solucion_candidata)\n",
        "  lista_unica = []\n",
        "  i = 0\n",
        "  for numero in vector_decimales:\n",
        "    if i % 2 == 0:\n",
        "      if numero not in lista_unica:\n",
        "        lista_unica.append(numero)\n",
        "      else:\n",
        "        return True\n",
        "    i = i + 1  \n",
        "  return False"
      ],
      "metadata": {
        "id": "j1O9fCfVWj25"
      },
      "execution_count": 62,
      "outputs": []
    },
    {
      "cell_type": "code",
      "source": [
        "existen_tareas_repetidas(cromosoma_solucion_candidata_1)"
      ],
      "metadata": {
        "colab": {
          "base_uri": "https://localhost:8080/"
        },
        "id": "CRNWoZxrWysJ",
        "outputId": "be3967b8-e33b-49a6-c296-6ac2044aaedc"
      },
      "execution_count": 63,
      "outputs": [
        {
          "output_type": "execute_result",
          "data": {
            "text/plain": [
              "False"
            ]
          },
          "metadata": {},
          "execution_count": 63
        }
      ]
    },
    {
      "cell_type": "code",
      "source": [
        "existen_tareas_repetidas(cromosoma_solucion_candidata_2)"
      ],
      "metadata": {
        "colab": {
          "base_uri": "https://localhost:8080/"
        },
        "id": "2_Cis-ZfW2_4",
        "outputId": "0f3910d7-793b-44a8-e6ff-3978d9bd806d"
      },
      "execution_count": 64,
      "outputs": [
        {
          "output_type": "execute_result",
          "data": {
            "text/plain": [
              "False"
            ]
          },
          "metadata": {},
          "execution_count": 64
        }
      ]
    },
    {
      "cell_type": "code",
      "source": [
        "existen_tareas_repetidas(cromosoma_solucion_candidata_3)"
      ],
      "metadata": {
        "colab": {
          "base_uri": "https://localhost:8080/"
        },
        "id": "hzpC92xkW5L5",
        "outputId": "1009efd7-456d-4ba4-fcf8-ff978ca6f55b"
      },
      "execution_count": 65,
      "outputs": [
        {
          "output_type": "execute_result",
          "data": {
            "text/plain": [
              "False"
            ]
          },
          "metadata": {},
          "execution_count": 65
        }
      ]
    },
    {
      "cell_type": "code",
      "source": [
        "existen_tareas_repetidas(cromosoma_solucion_candidata_4)"
      ],
      "metadata": {
        "colab": {
          "base_uri": "https://localhost:8080/"
        },
        "id": "O4JQutk_W7Wq",
        "outputId": "c47b5694-2be1-4f08-9937-ad1e47cc0eb4"
      },
      "execution_count": 66,
      "outputs": [
        {
          "output_type": "execute_result",
          "data": {
            "text/plain": [
              "True"
            ]
          },
          "metadata": {},
          "execution_count": 66
        }
      ]
    },
    {
      "cell_type": "code",
      "source": [
        "existen_tareas_repetidas(cromosoma_solucion_candidata_5)"
      ],
      "metadata": {
        "colab": {
          "base_uri": "https://localhost:8080/"
        },
        "id": "OC34RZ-0W9mq",
        "outputId": "d019593f-618e-45f3-9a52-e483fb9215d9"
      },
      "execution_count": 67,
      "outputs": [
        {
          "output_type": "execute_result",
          "data": {
            "text/plain": [
              "False"
            ]
          },
          "metadata": {},
          "execution_count": 67
        }
      ]
    },
    {
      "cell_type": "code",
      "source": [
        "def existe_tarea_fuera_rango (solucion_candidata):\n",
        "  vector_decimales = binario_a_decimal(solucion_candidata)\n",
        "  i = 0\n",
        "  for numero in vector_decimales:\n",
        "    if i % 2 == 0:\n",
        "      if numero > 5:\n",
        "        return True\n",
        "    i = i + 1  \n",
        "  return False"
      ],
      "metadata": {
        "id": "QQsjRM_WYALz"
      },
      "execution_count": 68,
      "outputs": []
    },
    {
      "cell_type": "code",
      "source": [
        "existe_tarea_fuera_rango(cromosoma_solucion_candidata_1)"
      ],
      "metadata": {
        "colab": {
          "base_uri": "https://localhost:8080/"
        },
        "id": "BlG8osO-YPLc",
        "outputId": "79df4442-d896-4779-aab7-91bab5de004f"
      },
      "execution_count": 70,
      "outputs": [
        {
          "output_type": "execute_result",
          "data": {
            "text/plain": [
              "False"
            ]
          },
          "metadata": {},
          "execution_count": 70
        }
      ]
    },
    {
      "cell_type": "code",
      "source": [
        "existe_tarea_fuera_rango(cromosoma_solucion_candidata_2)"
      ],
      "metadata": {
        "colab": {
          "base_uri": "https://localhost:8080/"
        },
        "id": "C9cRyO3nYVVY",
        "outputId": "36b0dc6a-f875-48f4-f0c5-82a4629dfe68"
      },
      "execution_count": 71,
      "outputs": [
        {
          "output_type": "execute_result",
          "data": {
            "text/plain": [
              "False"
            ]
          },
          "metadata": {},
          "execution_count": 71
        }
      ]
    },
    {
      "cell_type": "code",
      "source": [
        "existe_tarea_fuera_rango(cromosoma_solucion_candidata_3)"
      ],
      "metadata": {
        "colab": {
          "base_uri": "https://localhost:8080/"
        },
        "id": "WEOVPKKCYXEv",
        "outputId": "972af472-b81e-45e5-dcbf-897dda0db9e1"
      },
      "execution_count": 72,
      "outputs": [
        {
          "output_type": "execute_result",
          "data": {
            "text/plain": [
              "False"
            ]
          },
          "metadata": {},
          "execution_count": 72
        }
      ]
    },
    {
      "cell_type": "code",
      "source": [
        "existe_tarea_fuera_rango(cromosoma_solucion_candidata_4)"
      ],
      "metadata": {
        "colab": {
          "base_uri": "https://localhost:8080/"
        },
        "id": "oHDmun4KYZF7",
        "outputId": "b89fc515-8161-4e3e-a8b7-2b73cca6d4c3"
      },
      "execution_count": 73,
      "outputs": [
        {
          "output_type": "execute_result",
          "data": {
            "text/plain": [
              "False"
            ]
          },
          "metadata": {},
          "execution_count": 73
        }
      ]
    },
    {
      "cell_type": "code",
      "source": [
        "existe_tarea_fuera_rango(cromosoma_solucion_candidata_5)"
      ],
      "metadata": {
        "colab": {
          "base_uri": "https://localhost:8080/"
        },
        "id": "BIW5oxgYYbJI",
        "outputId": "df3c8e28-d7ca-466e-d107-11caa077d18a"
      },
      "execution_count": 74,
      "outputs": [
        {
          "output_type": "execute_result",
          "data": {
            "text/plain": [
              "True"
            ]
          },
          "metadata": {},
          "execution_count": 74
        }
      ]
    },
    {
      "cell_type": "code",
      "source": [
        "import numpy as np\n",
        "\n",
        "def beneficio (solucion_candidata):\n",
        "  vectores_beneficio = np.array([[7 , 15, 18, 24, 17],\n",
        "                        [7 , 10, 16, 32, 19],\n",
        "                        [2 , 88, 50, 76, 35],\n",
        "                        [9 , 24, 15, 30, 54],\n",
        "                        [13, 16, 35, 12, 27],\n",
        "                        [12, 23, 15, 22, 17],\n",
        "                        [13, 26, 31, 15,  7],\n",
        "                        [11, 26,  5, 12, 17]])\n",
        "  vector_decimales = binario_a_decimal(solucion_candidata)\n",
        "  valor = 0\n",
        "  i = 0\n",
        "  tarea = 0\n",
        "  for numero in vector_decimales:\n",
        "    if i % 2 == 0: # Es una tarea\n",
        "      tarea = numero\n",
        "    else: # Es un agente\n",
        "      agente = numero\n",
        "      valor = valor + vectores_beneficio[agente - 1][tarea - 1]\n",
        "    i = i +1\n",
        "  return valor"
      ],
      "metadata": {
        "id": "DCU8dqE-KKrd"
      },
      "execution_count": 78,
      "outputs": []
    },
    {
      "cell_type": "code",
      "source": [
        "beneficio(cromosoma_solucion_candidata_1)"
      ],
      "metadata": {
        "colab": {
          "base_uri": "https://localhost:8080/"
        },
        "id": "hE6X4iNuceEI",
        "outputId": "4c36b11c-b697-408e-87d6-4da222a64ebb"
      },
      "execution_count": 79,
      "outputs": [
        {
          "output_type": "execute_result",
          "data": {
            "text/plain": [
              "124"
            ]
          },
          "metadata": {},
          "execution_count": 79
        }
      ]
    },
    {
      "cell_type": "code",
      "source": [
        "beneficio(cromosoma_solucion_candidata_2)"
      ],
      "metadata": {
        "colab": {
          "base_uri": "https://localhost:8080/"
        },
        "id": "3ujNgiW6ch5M",
        "outputId": "bb796a0d-5e10-4a53-ddef-bce9fc6687ad"
      },
      "execution_count": 80,
      "outputs": [
        {
          "output_type": "execute_result",
          "data": {
            "text/plain": [
              "159"
            ]
          },
          "metadata": {},
          "execution_count": 80
        }
      ]
    },
    {
      "cell_type": "code",
      "source": [
        "def funcion_adaptacion (solucion_candidata):\n",
        "  if existen_agentes_repetidos(solucion_candidata) or \\\n",
        "          existen_tareas_repetidas (solucion_candidata) or \\\n",
        "          existe_tarea_fuera_rango(solucion_candidata):\n",
        "    return -1 # Muerte súbita a esa solución candidata no válida\n",
        "  else:\n",
        "    return beneficio(solucion_candidata)"
      ],
      "metadata": {
        "id": "bC80y68cZGij"
      },
      "execution_count": 88,
      "outputs": []
    },
    {
      "cell_type": "code",
      "source": [
        "funcion_adaptacion (cromosoma_solucion_candidata_1)"
      ],
      "metadata": {
        "colab": {
          "base_uri": "https://localhost:8080/"
        },
        "id": "fKGv9UhCdLkp",
        "outputId": "fbe1a02d-3055-45e9-f427-aa20a508ff95"
      },
      "execution_count": 89,
      "outputs": [
        {
          "output_type": "execute_result",
          "data": {
            "text/plain": [
              "124"
            ]
          },
          "metadata": {},
          "execution_count": 89
        }
      ]
    },
    {
      "cell_type": "code",
      "source": [
        "funcion_adaptacion (cromosoma_solucion_candidata_2)"
      ],
      "metadata": {
        "colab": {
          "base_uri": "https://localhost:8080/"
        },
        "id": "eQdZPQrddRKo",
        "outputId": "fa6e5c95-e064-42c4-d5fb-d2840882a467"
      },
      "execution_count": 90,
      "outputs": [
        {
          "output_type": "execute_result",
          "data": {
            "text/plain": [
              "159"
            ]
          },
          "metadata": {},
          "execution_count": 90
        }
      ]
    },
    {
      "cell_type": "code",
      "source": [
        "funcion_adaptacion (cromosoma_solucion_candidata_3)"
      ],
      "metadata": {
        "colab": {
          "base_uri": "https://localhost:8080/"
        },
        "id": "IBvztCvwdS9X",
        "outputId": "261f18cf-7d54-4441-c9c6-830d3ee43e4f"
      },
      "execution_count": 91,
      "outputs": [
        {
          "output_type": "execute_result",
          "data": {
            "text/plain": [
              "-1"
            ]
          },
          "metadata": {},
          "execution_count": 91
        }
      ]
    },
    {
      "cell_type": "code",
      "source": [
        "funcion_adaptacion (cromosoma_solucion_candidata_4)"
      ],
      "metadata": {
        "colab": {
          "base_uri": "https://localhost:8080/"
        },
        "id": "NOK0-JXedVnv",
        "outputId": "7178b1f3-5eb9-4658-d630-5784b7324098"
      },
      "execution_count": 92,
      "outputs": [
        {
          "output_type": "execute_result",
          "data": {
            "text/plain": [
              "-1"
            ]
          },
          "metadata": {},
          "execution_count": 92
        }
      ]
    },
    {
      "cell_type": "code",
      "source": [
        "funcion_adaptacion (cromosoma_solucion_candidata_5)"
      ],
      "metadata": {
        "colab": {
          "base_uri": "https://localhost:8080/"
        },
        "id": "xo8C00AldW0Y",
        "outputId": "c29fe819-3e71-4b78-adf2-fd66d76c35e9"
      },
      "execution_count": 93,
      "outputs": [
        {
          "output_type": "execute_result",
          "data": {
            "text/plain": [
              "-1"
            ]
          },
          "metadata": {},
          "execution_count": 93
        }
      ]
    }
  ]
}