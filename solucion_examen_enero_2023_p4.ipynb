{
  "nbformat": 4,
  "nbformat_minor": 0,
  "metadata": {
    "colab": {
      "name": "2_3_Engranajes_RNA_Operaciones_con_Tensores.ipynb",
      "provenance": [],
      "authorship_tag": "ABX9TyMs0x0xQglpsn9G1UN4ZK6M",
      "include_colab_link": true
    },
    "kernelspec": {
      "name": "python3",
      "display_name": "Python 3"
    },
    "language_info": {
      "name": "python"
    }
  },
  "cells": [
    {
      "cell_type": "markdown",
      "metadata": {
        "id": "view-in-github",
        "colab_type": "text"
      },
      "source": [
        "<a href=\"https://colab.research.google.com/github/carlosrabazo/AlgoritmoGenetico/blob/main/solucion_examen_enero_2023_p4.ipynb\" target=\"_parent\"><img src=\"https://colab.research.google.com/assets/colab-badge.svg\" alt=\"Open In Colab\"/></a>"
      ]
    },
    {
      "cell_type": "code",
      "source": [
        "def binario_a_decimal(array_binario):\n",
        "  array_decimal = []\n",
        "  for i in range(0, len(array_binario), 3):\n",
        "    array_decimal.append(1 + int(str(array_binario[i]) + str(array_binario[i+1]) + str(array_binario[i+2]) , 2))\n",
        "  return array_decimal"
      ],
      "metadata": {
        "id": "ZN5cm9XJKCca"
      },
      "execution_count": 2,
      "outputs": []
    },
    {
      "cell_type": "code",
      "source": [
        "# solucion_candidata_1 CORRECTA\n",
        "cromosoma_solucion_candidata_1 = [0,0,0,0,0,0,0,0,1,0,0,1,0,1,0,0,1,0,0,1,1,0,1,1,1,0,0,1,0,0]\n",
        "# solucion_candidata_2 CORRECTA\n",
        "cromosoma_solucion_candidata_2 = [0,0,0,1,1,1,0,0,1,0,1,0,0,1,0,1,1,0,0,1,1,1,0,0,1,0,0,0,0,0]\n",
        "# solucion_candidata_3 erronea por tener dos agentes asociados a dos tareas diferentes\n",
        "cromosoma_solucion_candidata_3 = [0,0,0,0,0,0,0,0,1,0,0,0,0,1,0,0,1,0,0,1,1,0,1,1,1,0,0,1,0,0]\n",
        "# solucion_candidata_4 erronea por tener la segunda tarea repetida\n",
        "cromosoma_solucion_candidata_4 = [0,0,0,0,0,0,0,0,0,0,0,1,0,1,0,0,1,0,0,1,1,0,1,1,1,0,0,1,0,0]\n",
        "# solucion_candidata_5 erronea por tener la ultima tarea fuera de rango (valor 5)\n",
        "cromosoma_solucion_candidata_5 = [0,0,0,0,0,0,0,0,1,0,0,1,0,1,0,0,1,0,0,1,1,0,1,1,1,0,1,1,0,0]"
      ],
      "metadata": {
        "id": "0z7xVLP5KwG9"
      },
      "execution_count": 3,
      "outputs": []
    },
    {
      "cell_type": "code",
      "source": [
        "binario_a_decimal(cromosoma_solucion_candidata_1)"
      ],
      "metadata": {
        "colab": {
          "base_uri": "https://localhost:8080/"
        },
        "id": "EBDGUI6DLtgp",
        "outputId": "f9113007-beee-4ce6-d29d-5f33491d3029"
      },
      "execution_count": 4,
      "outputs": [
        {
          "output_type": "execute_result",
          "data": {
            "text/plain": [
              "[1, 1, 2, 2, 3, 3, 4, 4, 5, 5]"
            ]
          },
          "metadata": {},
          "execution_count": 4
        }
      ]
    },
    {
      "cell_type": "code",
      "source": [
        "binario_a_decimal(cromosoma_solucion_candidata_2)"
      ],
      "metadata": {
        "colab": {
          "base_uri": "https://localhost:8080/"
        },
        "id": "GAV31JRWL3cm",
        "outputId": "93cc2eb5-f321-4824-f945-a337a164af4f"
      },
      "execution_count": 5,
      "outputs": [
        {
          "output_type": "execute_result",
          "data": {
            "text/plain": [
              "[1, 8, 2, 3, 3, 7, 4, 5, 5, 1]"
            ]
          },
          "metadata": {},
          "execution_count": 5
        }
      ]
    },
    {
      "cell_type": "code",
      "source": [
        "binario_a_decimal(cromosoma_solucion_candidata_3)"
      ],
      "metadata": {
        "colab": {
          "base_uri": "https://localhost:8080/"
        },
        "id": "jgFGt1YHQTJo",
        "outputId": "76fd07b0-b062-4f7f-9767-e93274af4c13"
      },
      "execution_count": 6,
      "outputs": [
        {
          "output_type": "execute_result",
          "data": {
            "text/plain": [
              "[1, 1, 2, 1, 3, 3, 4, 4, 5, 5]"
            ]
          },
          "metadata": {},
          "execution_count": 6
        }
      ]
    },
    {
      "cell_type": "code",
      "source": [
        "binario_a_decimal(cromosoma_solucion_candidata_4)"
      ],
      "metadata": {
        "colab": {
          "base_uri": "https://localhost:8080/"
        },
        "id": "KqCRTBQWSc3U",
        "outputId": "1131dfb6-6aed-4320-82bb-f8cab9189893"
      },
      "execution_count": 7,
      "outputs": [
        {
          "output_type": "execute_result",
          "data": {
            "text/plain": [
              "[1, 1, 1, 2, 3, 3, 4, 4, 5, 5]"
            ]
          },
          "metadata": {},
          "execution_count": 7
        }
      ]
    },
    {
      "cell_type": "code",
      "source": [
        "binario_a_decimal(cromosoma_solucion_candidata_5)"
      ],
      "metadata": {
        "colab": {
          "base_uri": "https://localhost:8080/"
        },
        "id": "SJp2o6wySero",
        "outputId": "6199296e-b099-47b9-f23f-7ae3e6e0b825"
      },
      "execution_count": 8,
      "outputs": [
        {
          "output_type": "execute_result",
          "data": {
            "text/plain": [
              "[1, 1, 2, 2, 3, 3, 4, 4, 6, 5]"
            ]
          },
          "metadata": {},
          "execution_count": 8
        }
      ]
    },
    {
      "cell_type": "code",
      "source": [
        "def existen_agentes_repetidos (solucion_candidata):\n",
        "  vector_decimales = binario_a_decimal(solucion_candidata)\n",
        "  lista_unica = []\n",
        "  i = 0\n",
        "  for numero in vector_decimales:\n",
        "    if i != 0 and i % 2 == 1:\n",
        "      if numero not in lista_unica:\n",
        "        lista_unica.append(numero)\n",
        "      else:\n",
        "        return True\n",
        "    i = i + 1  \n",
        "  return False"
      ],
      "metadata": {
        "id": "J7d9lG1bNQWD"
      },
      "execution_count": 9,
      "outputs": []
    },
    {
      "cell_type": "code",
      "source": [
        "existen_agentes_repetidos(cromosoma_solucion_candidata_1)"
      ],
      "metadata": {
        "colab": {
          "base_uri": "https://localhost:8080/"
        },
        "id": "BJ6rb6z1QE7f",
        "outputId": "b9f413b7-93d7-4c3f-a86d-65a5c0340c0d"
      },
      "execution_count": 10,
      "outputs": [
        {
          "output_type": "execute_result",
          "data": {
            "text/plain": [
              "False"
            ]
          },
          "metadata": {},
          "execution_count": 10
        }
      ]
    },
    {
      "cell_type": "code",
      "source": [
        "existen_agentes_repetidos(cromosoma_solucion_candidata_2)"
      ],
      "metadata": {
        "colab": {
          "base_uri": "https://localhost:8080/"
        },
        "id": "-qID1I5_QLMQ",
        "outputId": "9c0477db-98d7-4bd3-96fe-95330a4df448"
      },
      "execution_count": 11,
      "outputs": [
        {
          "output_type": "execute_result",
          "data": {
            "text/plain": [
              "False"
            ]
          },
          "metadata": {},
          "execution_count": 11
        }
      ]
    },
    {
      "cell_type": "code",
      "source": [
        "existen_agentes_repetidos(cromosoma_solucion_candidata_3)"
      ],
      "metadata": {
        "colab": {
          "base_uri": "https://localhost:8080/"
        },
        "id": "iRjxB1kkQOcb",
        "outputId": "4d89127f-6d43-42d7-a870-7a69b64998e9"
      },
      "execution_count": 12,
      "outputs": [
        {
          "output_type": "execute_result",
          "data": {
            "text/plain": [
              "True"
            ]
          },
          "metadata": {},
          "execution_count": 12
        }
      ]
    },
    {
      "cell_type": "code",
      "source": [
        "existen_agentes_repetidos(cromosoma_solucion_candidata_4)"
      ],
      "metadata": {
        "colab": {
          "base_uri": "https://localhost:8080/"
        },
        "id": "z_bBWAkHWbTF",
        "outputId": "301e7303-2135-4743-f284-1a5d5c385a01"
      },
      "execution_count": 13,
      "outputs": [
        {
          "output_type": "execute_result",
          "data": {
            "text/plain": [
              "False"
            ]
          },
          "metadata": {},
          "execution_count": 13
        }
      ]
    },
    {
      "cell_type": "code",
      "source": [
        "existen_agentes_repetidos(cromosoma_solucion_candidata_5)"
      ],
      "metadata": {
        "colab": {
          "base_uri": "https://localhost:8080/"
        },
        "id": "LuipOO4mWeI0",
        "outputId": "2b49cd20-4d5f-4b6a-e0b4-be28872f3c87"
      },
      "execution_count": 14,
      "outputs": [
        {
          "output_type": "execute_result",
          "data": {
            "text/plain": [
              "False"
            ]
          },
          "metadata": {},
          "execution_count": 14
        }
      ]
    },
    {
      "cell_type": "code",
      "source": [
        "def existen_tareas_repetidas (solucion_candidata):\n",
        "  vector_decimales = binario_a_decimal(solucion_candidata)\n",
        "  lista_unica = []\n",
        "  i = 0\n",
        "  for numero in vector_decimales:\n",
        "    if i % 2 == 0:\n",
        "      if numero not in lista_unica:\n",
        "        lista_unica.append(numero)\n",
        "      else:\n",
        "        return True\n",
        "    i = i + 1  \n",
        "  return False"
      ],
      "metadata": {
        "id": "j1O9fCfVWj25"
      },
      "execution_count": 15,
      "outputs": []
    },
    {
      "cell_type": "code",
      "source": [
        "existen_tareas_repetidas(cromosoma_solucion_candidata_1)"
      ],
      "metadata": {
        "colab": {
          "base_uri": "https://localhost:8080/"
        },
        "id": "CRNWoZxrWysJ",
        "outputId": "8b01ed4c-04d0-4aec-938b-5a4c38d12ca8"
      },
      "execution_count": 16,
      "outputs": [
        {
          "output_type": "execute_result",
          "data": {
            "text/plain": [
              "False"
            ]
          },
          "metadata": {},
          "execution_count": 16
        }
      ]
    },
    {
      "cell_type": "code",
      "source": [
        "existen_tareas_repetidas(cromosoma_solucion_candidata_2)"
      ],
      "metadata": {
        "colab": {
          "base_uri": "https://localhost:8080/"
        },
        "id": "2_Cis-ZfW2_4",
        "outputId": "50502b56-428b-4e9f-ee04-e0773c82557f"
      },
      "execution_count": 17,
      "outputs": [
        {
          "output_type": "execute_result",
          "data": {
            "text/plain": [
              "False"
            ]
          },
          "metadata": {},
          "execution_count": 17
        }
      ]
    },
    {
      "cell_type": "code",
      "source": [
        "existen_tareas_repetidas(cromosoma_solucion_candidata_3)"
      ],
      "metadata": {
        "colab": {
          "base_uri": "https://localhost:8080/"
        },
        "id": "hzpC92xkW5L5",
        "outputId": "c012ed53-98de-4894-9f51-b94df21c28dd"
      },
      "execution_count": 18,
      "outputs": [
        {
          "output_type": "execute_result",
          "data": {
            "text/plain": [
              "False"
            ]
          },
          "metadata": {},
          "execution_count": 18
        }
      ]
    },
    {
      "cell_type": "code",
      "source": [
        "existen_tareas_repetidas(cromosoma_solucion_candidata_4)"
      ],
      "metadata": {
        "colab": {
          "base_uri": "https://localhost:8080/"
        },
        "id": "O4JQutk_W7Wq",
        "outputId": "b3a8d57e-14af-4a63-83d0-256cc587a562"
      },
      "execution_count": 19,
      "outputs": [
        {
          "output_type": "execute_result",
          "data": {
            "text/plain": [
              "True"
            ]
          },
          "metadata": {},
          "execution_count": 19
        }
      ]
    },
    {
      "cell_type": "code",
      "source": [
        "existen_tareas_repetidas(cromosoma_solucion_candidata_5)"
      ],
      "metadata": {
        "colab": {
          "base_uri": "https://localhost:8080/"
        },
        "id": "OC34RZ-0W9mq",
        "outputId": "c6790721-f9d3-4cee-8b7f-16950d7dd701"
      },
      "execution_count": 20,
      "outputs": [
        {
          "output_type": "execute_result",
          "data": {
            "text/plain": [
              "False"
            ]
          },
          "metadata": {},
          "execution_count": 20
        }
      ]
    },
    {
      "cell_type": "code",
      "source": [
        "def existe_tarea_fuera_rango (solucion_candidata):\n",
        "  vector_decimales = binario_a_decimal(solucion_candidata)\n",
        "  i = 0\n",
        "  for numero in vector_decimales:\n",
        "    if i % 2 == 0:\n",
        "      if numero > 5:\n",
        "        return True\n",
        "    i = i + 1  \n",
        "  return False"
      ],
      "metadata": {
        "id": "QQsjRM_WYALz"
      },
      "execution_count": 21,
      "outputs": []
    },
    {
      "cell_type": "code",
      "source": [
        "existe_tarea_fuera_rango(cromosoma_solucion_candidata_1)"
      ],
      "metadata": {
        "colab": {
          "base_uri": "https://localhost:8080/"
        },
        "id": "BlG8osO-YPLc",
        "outputId": "147ec268-4357-4685-895f-fa252e95e978"
      },
      "execution_count": 22,
      "outputs": [
        {
          "output_type": "execute_result",
          "data": {
            "text/plain": [
              "False"
            ]
          },
          "metadata": {},
          "execution_count": 22
        }
      ]
    },
    {
      "cell_type": "code",
      "source": [
        "existe_tarea_fuera_rango(cromosoma_solucion_candidata_2)"
      ],
      "metadata": {
        "colab": {
          "base_uri": "https://localhost:8080/"
        },
        "id": "C9cRyO3nYVVY",
        "outputId": "dd48711f-74a7-40f1-a2a2-53e50afcd0b3"
      },
      "execution_count": 23,
      "outputs": [
        {
          "output_type": "execute_result",
          "data": {
            "text/plain": [
              "False"
            ]
          },
          "metadata": {},
          "execution_count": 23
        }
      ]
    },
    {
      "cell_type": "code",
      "source": [
        "existe_tarea_fuera_rango(cromosoma_solucion_candidata_3)"
      ],
      "metadata": {
        "colab": {
          "base_uri": "https://localhost:8080/"
        },
        "id": "WEOVPKKCYXEv",
        "outputId": "41a2af0b-a9b3-4049-9794-3541b1182a24"
      },
      "execution_count": 24,
      "outputs": [
        {
          "output_type": "execute_result",
          "data": {
            "text/plain": [
              "False"
            ]
          },
          "metadata": {},
          "execution_count": 24
        }
      ]
    },
    {
      "cell_type": "code",
      "source": [
        "existe_tarea_fuera_rango(cromosoma_solucion_candidata_4)"
      ],
      "metadata": {
        "colab": {
          "base_uri": "https://localhost:8080/"
        },
        "id": "oHDmun4KYZF7",
        "outputId": "f4426829-14d3-4d6d-e407-bfb7fe78c9e3"
      },
      "execution_count": 25,
      "outputs": [
        {
          "output_type": "execute_result",
          "data": {
            "text/plain": [
              "False"
            ]
          },
          "metadata": {},
          "execution_count": 25
        }
      ]
    },
    {
      "cell_type": "code",
      "source": [
        "existe_tarea_fuera_rango(cromosoma_solucion_candidata_5)"
      ],
      "metadata": {
        "colab": {
          "base_uri": "https://localhost:8080/"
        },
        "id": "BIW5oxgYYbJI",
        "outputId": "bde6055c-4dbf-4fba-f033-6a900cad7fb2"
      },
      "execution_count": 26,
      "outputs": [
        {
          "output_type": "execute_result",
          "data": {
            "text/plain": [
              "True"
            ]
          },
          "metadata": {},
          "execution_count": 26
        }
      ]
    },
    {
      "cell_type": "code",
      "source": [
        "import numpy as np\n",
        "\n",
        "def beneficio (solucion_candidata):\n",
        "  vectores_beneficio = np.array([[7 , 15, 18, 24, 17],\n",
        "                        [7 , 10, 16, 32, 19],\n",
        "                        [2 , 88, 50, 76, 35],\n",
        "                        [9 , 24, 15, 30, 54],\n",
        "                        [13, 16, 35, 12, 27],\n",
        "                        [12, 23, 15, 22, 17],\n",
        "                        [13, 26, 31, 15,  7],\n",
        "                        [11, 26,  5, 12, 17]])\n",
        "  vector_decimales = binario_a_decimal(solucion_candidata)\n",
        "  valor = 0\n",
        "  i = 0\n",
        "  tarea = 0\n",
        "  for numero in vector_decimales:\n",
        "    if i % 2 == 0: # Es una tarea\n",
        "      tarea = numero\n",
        "    else: # Es un agente\n",
        "      agente = numero\n",
        "      valor = valor + vectores_beneficio[agente - 1][tarea - 1]\n",
        "    i = i +1\n",
        "  return valor"
      ],
      "metadata": {
        "id": "DCU8dqE-KKrd"
      },
      "execution_count": 27,
      "outputs": []
    },
    {
      "cell_type": "code",
      "source": [
        "beneficio(cromosoma_solucion_candidata_1)"
      ],
      "metadata": {
        "colab": {
          "base_uri": "https://localhost:8080/"
        },
        "id": "hE6X4iNuceEI",
        "outputId": "d4d6bf6d-28df-464d-a140-553e14444d9c"
      },
      "execution_count": 28,
      "outputs": [
        {
          "output_type": "execute_result",
          "data": {
            "text/plain": [
              "124"
            ]
          },
          "metadata": {},
          "execution_count": 28
        }
      ]
    },
    {
      "cell_type": "code",
      "source": [
        "beneficio(cromosoma_solucion_candidata_2)"
      ],
      "metadata": {
        "colab": {
          "base_uri": "https://localhost:8080/"
        },
        "id": "3ujNgiW6ch5M",
        "outputId": "91eb0557-4221-4622-8ee1-91c21c26d05d"
      },
      "execution_count": 29,
      "outputs": [
        {
          "output_type": "execute_result",
          "data": {
            "text/plain": [
              "159"
            ]
          },
          "metadata": {},
          "execution_count": 29
        }
      ]
    },
    {
      "cell_type": "code",
      "source": [
        "def funcion_adaptacion (solucion_candidata):\n",
        "  if existen_agentes_repetidos(solucion_candidata) or \\\n",
        "          existen_tareas_repetidas (solucion_candidata) or \\\n",
        "          existe_tarea_fuera_rango(solucion_candidata):\n",
        "    return -1 # Muerte súbita a esa solución candidata no válida\n",
        "  else:\n",
        "    return beneficio(solucion_candidata)"
      ],
      "metadata": {
        "id": "bC80y68cZGij"
      },
      "execution_count": 30,
      "outputs": []
    },
    {
      "cell_type": "code",
      "source": [
        "funcion_adaptacion (cromosoma_solucion_candidata_1)"
      ],
      "metadata": {
        "colab": {
          "base_uri": "https://localhost:8080/"
        },
        "id": "fKGv9UhCdLkp",
        "outputId": "dbf12a33-3996-486e-aff2-5aa9604dac6f"
      },
      "execution_count": 31,
      "outputs": [
        {
          "output_type": "execute_result",
          "data": {
            "text/plain": [
              "124"
            ]
          },
          "metadata": {},
          "execution_count": 31
        }
      ]
    },
    {
      "cell_type": "code",
      "source": [
        "funcion_adaptacion (cromosoma_solucion_candidata_2)"
      ],
      "metadata": {
        "colab": {
          "base_uri": "https://localhost:8080/"
        },
        "id": "eQdZPQrddRKo",
        "outputId": "04d15d0c-9223-4ad5-96e8-57caaa6f2929"
      },
      "execution_count": 32,
      "outputs": [
        {
          "output_type": "execute_result",
          "data": {
            "text/plain": [
              "159"
            ]
          },
          "metadata": {},
          "execution_count": 32
        }
      ]
    },
    {
      "cell_type": "code",
      "source": [
        "funcion_adaptacion (cromosoma_solucion_candidata_3)"
      ],
      "metadata": {
        "colab": {
          "base_uri": "https://localhost:8080/"
        },
        "id": "IBvztCvwdS9X",
        "outputId": "67419492-8611-4d15-8d67-bb92b28c813a"
      },
      "execution_count": 33,
      "outputs": [
        {
          "output_type": "execute_result",
          "data": {
            "text/plain": [
              "-1"
            ]
          },
          "metadata": {},
          "execution_count": 33
        }
      ]
    },
    {
      "cell_type": "code",
      "source": [
        "funcion_adaptacion (cromosoma_solucion_candidata_4)"
      ],
      "metadata": {
        "colab": {
          "base_uri": "https://localhost:8080/"
        },
        "id": "NOK0-JXedVnv",
        "outputId": "eb7cdfc6-97fe-492e-adf1-95b7075adeda"
      },
      "execution_count": 34,
      "outputs": [
        {
          "output_type": "execute_result",
          "data": {
            "text/plain": [
              "-1"
            ]
          },
          "metadata": {},
          "execution_count": 34
        }
      ]
    },
    {
      "cell_type": "code",
      "source": [
        "funcion_adaptacion (cromosoma_solucion_candidata_5)"
      ],
      "metadata": {
        "colab": {
          "base_uri": "https://localhost:8080/"
        },
        "id": "xo8C00AldW0Y",
        "outputId": "41f95f25-7815-40aa-cdd0-189ee37b98cb"
      },
      "execution_count": 35,
      "outputs": [
        {
          "output_type": "execute_result",
          "data": {
            "text/plain": [
              "-1"
            ]
          },
          "metadata": {},
          "execution_count": 35
        }
      ]
    }
  ]
}